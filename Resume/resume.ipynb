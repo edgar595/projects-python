{
 "cells": [
  {
   "cell_type": "markdown",
   "metadata": {},
   "source": [
    "## Analyzing Resumes using Python Packages\n",
    "In this analysis, we will leverage several Python packages to process and analyze a collection of resumes. The goal is to extract relevant information and compare the resumes based on their similarity to a given job description. "
   ]
  },
  {
   "cell_type": "code",
   "execution_count": 16,
   "metadata": {},
   "outputs": [],
   "source": [
    "import numpy as np\n",
    "import pandas as pd\n",
    "import os\n",
    "from collections import Counter\n",
    "import re\n",
    "from sklearn.feature_extraction.text import TfidfVectorizer\n",
    "from sklearn.metrics.pairwise import cosine_similarity\n",
    "from PyPDF2 import PdfReader"
   ]
  },
  {
   "cell_type": "code",
   "execution_count": 17,
   "metadata": {},
   "outputs": [],
   "source": [
    "cv = pd.read_csv(\"Resume/Resume.csv\")"
   ]
  },
  {
   "cell_type": "code",
   "execution_count": 18,
   "metadata": {},
   "outputs": [
    {
     "data": {
      "text/html": [
       "<div>\n",
       "<style scoped>\n",
       "    .dataframe tbody tr th:only-of-type {\n",
       "        vertical-align: middle;\n",
       "    }\n",
       "\n",
       "    .dataframe tbody tr th {\n",
       "        vertical-align: top;\n",
       "    }\n",
       "\n",
       "    .dataframe thead th {\n",
       "        text-align: right;\n",
       "    }\n",
       "</style>\n",
       "<table border=\"1\" class=\"dataframe\">\n",
       "  <thead>\n",
       "    <tr style=\"text-align: right;\">\n",
       "      <th></th>\n",
       "      <th>ID</th>\n",
       "      <th>Resume_str</th>\n",
       "      <th>Resume_html</th>\n",
       "      <th>Category</th>\n",
       "    </tr>\n",
       "  </thead>\n",
       "  <tbody>\n",
       "    <tr>\n",
       "      <th>0</th>\n",
       "      <td>16852973</td>\n",
       "      <td>HR ADMINISTRATOR/MARKETING ASSOCIATE\\...</td>\n",
       "      <td>&lt;div class=\"fontsize fontface vmargins hmargin...</td>\n",
       "      <td>HR</td>\n",
       "    </tr>\n",
       "    <tr>\n",
       "      <th>1</th>\n",
       "      <td>22323967</td>\n",
       "      <td>HR SPECIALIST, US HR OPERATIONS      ...</td>\n",
       "      <td>&lt;div class=\"fontsize fontface vmargins hmargin...</td>\n",
       "      <td>HR</td>\n",
       "    </tr>\n",
       "    <tr>\n",
       "      <th>2</th>\n",
       "      <td>33176873</td>\n",
       "      <td>HR DIRECTOR       Summary      Over 2...</td>\n",
       "      <td>&lt;div class=\"fontsize fontface vmargins hmargin...</td>\n",
       "      <td>HR</td>\n",
       "    </tr>\n",
       "    <tr>\n",
       "      <th>3</th>\n",
       "      <td>27018550</td>\n",
       "      <td>HR SPECIALIST       Summary    Dedica...</td>\n",
       "      <td>&lt;div class=\"fontsize fontface vmargins hmargin...</td>\n",
       "      <td>HR</td>\n",
       "    </tr>\n",
       "    <tr>\n",
       "      <th>4</th>\n",
       "      <td>17812897</td>\n",
       "      <td>HR MANAGER         Skill Highlights  ...</td>\n",
       "      <td>&lt;div class=\"fontsize fontface vmargins hmargin...</td>\n",
       "      <td>HR</td>\n",
       "    </tr>\n",
       "  </tbody>\n",
       "</table>\n",
       "</div>"
      ],
      "text/plain": [
       "         ID                                         Resume_str  \\\n",
       "0  16852973           HR ADMINISTRATOR/MARKETING ASSOCIATE\\...   \n",
       "1  22323967           HR SPECIALIST, US HR OPERATIONS      ...   \n",
       "2  33176873           HR DIRECTOR       Summary      Over 2...   \n",
       "3  27018550           HR SPECIALIST       Summary    Dedica...   \n",
       "4  17812897           HR MANAGER         Skill Highlights  ...   \n",
       "\n",
       "                                         Resume_html Category  \n",
       "0  <div class=\"fontsize fontface vmargins hmargin...       HR  \n",
       "1  <div class=\"fontsize fontface vmargins hmargin...       HR  \n",
       "2  <div class=\"fontsize fontface vmargins hmargin...       HR  \n",
       "3  <div class=\"fontsize fontface vmargins hmargin...       HR  \n",
       "4  <div class=\"fontsize fontface vmargins hmargin...       HR  "
      ]
     },
     "execution_count": 18,
     "metadata": {},
     "output_type": "execute_result"
    }
   ],
   "source": [
    "cv.head()"
   ]
  },
  {
   "cell_type": "code",
   "execution_count": 19,
   "metadata": {},
   "outputs": [
    {
     "name": "stdout",
     "output_type": "stream",
     "text": [
      "Unique Categories: ['HR' 'ICT' 'SALES' 'BANKING']\n",
      "Number of Unique Categories: 4\n"
     ]
    }
   ],
   "source": [
    "# Get the unique categories\n",
    "unique_categories = cv['Category'].unique()\n",
    "\n",
    "# Print unique categories and their count\n",
    "print(f\"Unique Categories: {unique_categories}\")\n",
    "print(f\"Number of Unique Categories: {cv['Category'].nunique()}\")"
   ]
  },
  {
   "cell_type": "code",
   "execution_count": 20,
   "metadata": {},
   "outputs": [
    {
     "name": "stdout",
     "output_type": "stream",
     "text": [
      "         HR ADMINISTRATOR/MARKETING ASSOCIATE\n",
      "\n",
      "HR ADMINISTRATOR       Summary     Dedicated Customer Service Manager with 15+ years of experience in Hospitality and Customer Service Management.   Respected builder and leader of customer-focused teams; strives to instill a shared, enthusiastic commitment to customer service.         Highlights         Focused on customer satisfaction  Team management  Marketing savvy  Conflict resolution techniques     Training and development  Skilled multi-tasker  Client relations specialist           Accomplishments      Missouri DOT Supervisor Training Certification  Certified by IHG in Customer Loyalty and Marketing by Segment   Hilton Worldwide General Manager Training Certification  Accomplished Trainer for cross server hospitality systems such as    Hilton OnQ  ,   Micros    Opera PMS   , Fidelio    OPERA    Reservation System (ORS) ,   Holidex    Completed courses and seminars in customer service, sales strategies, inventory control, loss prevention, safety, time management, leadership and performance assessment.        Experience      HR Administrator/Marketing Associate\n",
      "\n",
      "HR Administrator     Dec 2013   to   Current      Company Name   －   City  ,   State     Helps to develop policies, directs and coordinates activities such as employment, compensation, labor relations, benefits, training, and employee services.  Prepares employee separation notices and related documentation  Keeps records of benefits plans participation such as insurance and pension plan, personnel transactions such as hires, promotions, transfers, performance reviews, and terminations, and employee statistics for government reporting.  Advises management in appropriate resolution of employee relations issues.  Administers benefits programs such as life, health, dental, insurance, pension plans, vacation, sick leave, leave of absence, and employee assistance.     Marketing Associate     Designed and created marketing collateral for sales meetings, trade shows and company executives.  Managed the in-house advertising program consisting of print and media collateral pieces.  Assisted in the complete design and launch of the company's website in 2 months.  Created an official company page on Facebook to facilitate interaction with customers.  Analyzed ratings and programming features of competitors to evaluate the effectiveness of marketing strategies.         Advanced Medical Claims Analyst     Mar 2012   to   Dec 2013      Company Name   －   City  ,   State     Reviewed medical bills for the accuracy of the treatments, tests, and hospital stays prior to sanctioning the claims.  Trained to interpret the codes (ICD-9, CPT) and terminology commonly used in medical billing to fully understand the paperwork that is submitted by healthcare providers.  Required to have organizational and analytical skills as well as computer skills, knowledge of medical terminology and procedures, statistics, billing standards, data analysis and laws regarding medical billing.         Assistant General Manager     Jun 2010   to   Dec 2010      Company Name   －   City  ,   State     Performed duties including but not limited to, budgeting and financial management, accounting, human resources, payroll and purchasing.  Established and maintained close working relationships with all departments of the hotel to ensure maximum operation, productivity, morale and guest service.  Handled daily operations and reported directly to the corporate office.  Hired and trained staff on overall objectives and goals with an emphasis on high customer service.  Marketing and Advertising, working on public relations with the media, government and local businesses and Chamber of Commerce.         Executive Support / Marketing Assistant     Jul 2007   to   Jun 2010      Company Name   －   City  ,   State     Provided assistance to various department heads - Executive, Marketing, Customer Service, Human Resources.  Managed front-end operations to ensure friendly and efficient transactions.  Ensured the swift resolution of customer issues to preserve customer loyalty while complying with company policies.  Exemplified the second-to-none customer service delivery in all interactions with customers and potential clients.         Reservation & Front Office Manager     Jun 2004   to   Jul 2007      Company Name   －   City  ,   State          Owner/ Partner     Dec 2001   to   May 2004      Company Name   －   City  ,   State          Price Integrity Coordinator     Aug 1999   to   Dec 2001      Company Name   －   City  ,   State          Education      N/A  ,   Business Administration   1999     Jefferson College   －   City  ,   State       Business Administration  Marketing / Advertising         High School Diploma  ,   College Prep. studies   1998     Sainte Genevieve Senior High   －   City  ,   State       Awarded American Shrubel Leadership Scholarship to Jefferson College         Skills     Accounting, ads, advertising, analytical skills, benefits, billing, budgeting, clients, Customer Service, data analysis, delivery, documentation, employee relations, financial management, government relations, Human Resources, insurance, labor relations, layout, Marketing, marketing collateral, medical billing, medical terminology, office, organizational, payroll, performance reviews, personnel, policies, posters, presentations, public relations, purchasing, reporting, statistics, website.    \n"
     ]
    }
   ],
   "source": [
    "first_resume_str = cv.iloc[0]['Resume_str']\n",
    "print(first_resume_str)"
   ]
  },
  {
   "cell_type": "code",
   "execution_count": 21,
   "metadata": {},
   "outputs": [
    {
     "name": "stdout",
     "output_type": "stream",
     "text": [
      "         ID                                         Resume_str  \\\n",
      "0  16852973           HR ADMINISTRATOR/MARKETING ASSOCIATE\\...   \n",
      "1  22323967           HR SPECIALIST, US HR OPERATIONS      ...   \n",
      "2  33176873           HR DIRECTOR       Summary      Over 2...   \n",
      "3  27018550           HR SPECIALIST       Summary    Dedica...   \n",
      "4  17812897           HR MANAGER         Skill Highlights  ...   \n",
      "\n",
      "                                         Resume_html Category  \n",
      "0  <div class=\"fontsize fontface vmargins hmargin...       HR  \n",
      "1  <div class=\"fontsize fontface vmargins hmargin...       HR  \n",
      "2  <div class=\"fontsize fontface vmargins hmargin...       HR  \n",
      "3  <div class=\"fontsize fontface vmargins hmargin...       HR  \n",
      "4  <div class=\"fontsize fontface vmargins hmargin...       HR  \n"
     ]
    }
   ],
   "source": [
    "hr_resumes = cv[cv['Category'] == 'HR']\n",
    "\n",
    "# Display the first few rows of HR resumes\n",
    "print(hr_resumes.head())"
   ]
  },
  {
   "cell_type": "code",
   "execution_count": 22,
   "metadata": {},
   "outputs": [
    {
     "name": "stdout",
     "output_type": "stream",
     "text": [
      "Number of HR resumes: 110\n",
      "<class 'pandas.core.frame.DataFrame'>\n",
      "Index: 110 entries, 0 to 109\n",
      "Data columns (total 4 columns):\n",
      " #   Column       Non-Null Count  Dtype \n",
      "---  ------       --------------  ----- \n",
      " 0   ID           110 non-null    int64 \n",
      " 1   Resume_str   110 non-null    object\n",
      " 2   Resume_html  110 non-null    object\n",
      " 3   Category     110 non-null    object\n",
      "dtypes: int64(1), object(3)\n",
      "memory usage: 4.3+ KB\n",
      "None\n"
     ]
    }
   ],
   "source": [
    "# Number of HR resumes\n",
    "num_hr_resumes = hr_resumes.shape[0]\n",
    "\n",
    "# Overview of HR resumes data\n",
    "print(f\"Number of HR resumes: {num_hr_resumes}\")\n",
    "print(hr_resumes.info())"
   ]
  },
  {
   "cell_type": "code",
   "execution_count": 23,
   "metadata": {},
   "outputs": [
    {
     "name": "stdout",
     "output_type": "stream",
     "text": [
      "Most common words in HR resumes: [('hr', 1056), ('management', 949), ('employee', 828), ('company', 756), ('state', 666), ('human', 599), ('city', 568), ('all', 538), ('training', 502), ('employees', 500), ('new', 457), ('name', 455), ('resources', 416), ('business', 390), ('benefits', 388), ('skills', 376), ('development', 344), ('payroll', 333), ('performance', 317), ('process', 314)]\n"
     ]
    }
   ],
   "source": [
    "# Combine all HR resumes into one large text\n",
    "all_text = ' '.join(hr_resumes['Resume_str'].astype(str))\n",
    "\n",
    "# Tokenize the text and filter out common stop words\n",
    "words = re.findall(r'\\b\\w+\\b', all_text.lower())\n",
    "stop_words = set([\"and\", \"the\", \"with\", \"to\", \"a\", \"of\", \"in\", \"for\", \"on\", \"at\", \"by\", \"is\", \"as\", \"from\", \"that\", \"or\"])\n",
    "filtered_words = [word for word in words if word not in stop_words]\n",
    "\n",
    "# Get the most common words\n",
    "common_words = Counter(filtered_words).most_common(20)\n",
    "print(f\"Most common words in HR resumes: {common_words}\")"
   ]
  },
  {
   "cell_type": "code",
   "execution_count": 24,
   "metadata": {},
   "outputs": [
    {
     "name": "stdout",
     "output_type": "stream",
     "text": [
      "         ID                                         Resume_str  \\\n",
      "0  16852973           HR ADMINISTRATOR/MARKETING ASSOCIATE\\...   \n",
      "1  22323967           HR SPECIALIST, US HR OPERATIONS      ...   \n",
      "2  33176873           HR DIRECTOR       Summary      Over 2...   \n",
      "3  27018550           HR SPECIALIST       Summary    Dedica...   \n",
      "4  17812897           HR MANAGER         Skill Highlights  ...   \n",
      "\n",
      "                                         Resume_html Category  \n",
      "0  <div class=\"fontsize fontface vmargins hmargin...       HR  \n",
      "1  <div class=\"fontsize fontface vmargins hmargin...       HR  \n",
      "2  <div class=\"fontsize fontface vmargins hmargin...       HR  \n",
      "3  <div class=\"fontsize fontface vmargins hmargin...       HR  \n",
      "4  <div class=\"fontsize fontface vmargins hmargin...       HR  \n"
     ]
    }
   ],
   "source": [
    "# Define HR-related keywords\n",
    "hr_keywords = ['recruitment', 'employee relations', 'HRIS', 'benefits', 'training', 'compensation', 'labor relations', 'performance management']\n",
    "\n",
    "# Filter resumes that contain HR keywords\n",
    "relevant_hr_resumes = hr_resumes[hr_resumes['Resume_str'].str.contains('|'.join(hr_keywords), case=False)]\n",
    "\n",
    "# Display the first few relevant HR resumes\n",
    "print(relevant_hr_resumes.head())"
   ]
  },
  {
   "cell_type": "code",
   "execution_count": 25,
   "metadata": {},
   "outputs": [
    {
     "name": "stdout",
     "output_type": "stream",
     "text": [
      "           ID                                         Resume_str  \\\n",
      "53   13520837           HR REPRESENTATIVE       Summary    A ...   \n",
      "27   29297973           HR REPRESENTATIVE       Summary    Ex...   \n",
      "31   18316239           HR GENERALIST       Professional Prof...   \n",
      "105  30563572           HR MANAGER/BUSINESS PARTNER          ...   \n",
      "90   17150707           HR SHARED SERVICES ANALYST           ...   \n",
      "\n",
      "                                           Resume_html Category  Similarity  \n",
      "53   <div class=\"fontsize fontface vmargins hmargin...       HR    0.229908  \n",
      "27   <div class=\"fontsize fontface vmargins hmargin...       HR    0.169738  \n",
      "31   <div class=\"fontsize fontface vmargins hmargin...       HR    0.163598  \n",
      "105  <div class=\"fontsize fontface vmargins hmargin...       HR    0.160427  \n",
      "90   <div class=\"fontsize fontface vmargins hmargin...       HR    0.160191  \n"
     ]
    },
    {
     "name": "stderr",
     "output_type": "stream",
     "text": [
      "C:\\Users\\USER\\AppData\\Local\\Temp\\ipykernel_13668\\1991470920.py:18: SettingWithCopyWarning: \n",
      "A value is trying to be set on a copy of a slice from a DataFrame.\n",
      "Try using .loc[row_indexer,col_indexer] = value instead\n",
      "\n",
      "See the caveats in the documentation: https://pandas.pydata.org/pandas-docs/stable/user_guide/indexing.html#returning-a-view-versus-a-copy\n",
      "  relevant_hr_resumes['Similarity'] = similarities\n"
     ]
    }
   ],
   "source": [
    "# Sample HR job description\n",
    "job_description = \"\"\"\n",
    "    We are looking for an experienced HR professional with a strong background in recruitment, employee relations,\n",
    "    and HRIS. The ideal candidate should have excellent communication skills and experience in benefits management and training.\n",
    "\"\"\"\n",
    "\n",
    "# Create a TF-IDF vectorizer\n",
    "vectorizer = TfidfVectorizer(stop_words='english')\n",
    "tfidf_matrix = vectorizer.fit_transform(relevant_hr_resumes['Resume_str'])\n",
    "\n",
    "# Transform the job description to a vector\n",
    "job_vector = vectorizer.transform([job_description])\n",
    "\n",
    "# Calculate cosine similarity\n",
    "similarities = cosine_similarity(job_vector, tfidf_matrix).flatten()\n",
    "\n",
    "# Add similarity scores to the DataFrame\n",
    "relevant_hr_resumes['Similarity'] = similarities\n",
    "\n",
    "# Rank resumes by similarity score\n",
    "ranked_resumes = relevant_hr_resumes.sort_values(by='Similarity', ascending=False)\n",
    "\n",
    "# Display the top ranked resumes\n",
    "print(ranked_resumes.head())"
   ]
  },
  {
   "cell_type": "markdown",
   "metadata": {},
   "source": [
    "ICT"
   ]
  },
  {
   "cell_type": "code",
   "execution_count": 27,
   "metadata": {},
   "outputs": [
    {
     "name": "stdout",
     "output_type": "stream",
     "text": [
      "Total files in 'data/data/ICT': 68\n"
     ]
    }
   ],
   "source": [
    "# Directory path\n",
    "directory_path = 'data/data/ICT'\n",
    "\n",
    "# List all files in the directory\n",
    "files = os.listdir(directory_path)\n",
    "\n",
    "# Count all files\n",
    "total_files = len(files)\n",
    "\n",
    "print(f\"Total files in '{directory_path}': {total_files}\")"
   ]
  },
  {
   "cell_type": "code",
   "execution_count": 28,
   "metadata": {},
   "outputs": [
    {
     "name": "stdout",
     "output_type": "stream",
     "text": [
      "           ID                                         Resume_str  \\\n",
      "110  36856210           INFORMATION TECHNOLOGY         Summar...   \n",
      "111  21780877           INFORMATION TECHNOLOGY SPECIALIST\\tGS...   \n",
      "112  33241454           INFORMATION TECHNOLOGY SUPERVISOR    ...   \n",
      "113  25990239           INFORMATION TECHNOLOGY INSTRUCTOR    ...   \n",
      "114  16899268           INFORMATION TECHNOLOGY MANAGER/ANALYS...   \n",
      "\n",
      "                                           Resume_html Category  \n",
      "110  <div class=\"fontsize fontface vmargins hmargin...      ICT  \n",
      "111  <div class=\"fontsize fontface vmargins hmargin...      ICT  \n",
      "112  <div class=\"fontsize fontface vmargins hmargin...      ICT  \n",
      "113  <div class=\"fontsize fontface vmargins hmargin...      ICT  \n",
      "114  <div class=\"fontsize fontface vmargins hmargin...      ICT  \n"
     ]
    }
   ],
   "source": [
    "# Filter resumes with the 'INFORMATION-TECHNOLOGY' category\n",
    "it_resumes = cv[cv['Category'] == 'ICT']\n",
    "\n",
    "# Display the first few rows of IT resumes\n",
    "print(it_resumes.head())"
   ]
  },
  {
   "cell_type": "code",
   "execution_count": 29,
   "metadata": {},
   "outputs": [
    {
     "name": "stdout",
     "output_type": "stream",
     "text": [
      "           ID                                         Resume_str  \\\n",
      "110  36856210           INFORMATION TECHNOLOGY         Summar...   \n",
      "111  21780877           INFORMATION TECHNOLOGY SPECIALIST\\tGS...   \n",
      "112  33241454           INFORMATION TECHNOLOGY SUPERVISOR    ...   \n",
      "113  25990239           INFORMATION TECHNOLOGY INSTRUCTOR    ...   \n",
      "114  16899268           INFORMATION TECHNOLOGY MANAGER/ANALYS...   \n",
      "\n",
      "                                           Resume_html Category  \n",
      "110  <div class=\"fontsize fontface vmargins hmargin...      ICT  \n",
      "111  <div class=\"fontsize fontface vmargins hmargin...      ICT  \n",
      "112  <div class=\"fontsize fontface vmargins hmargin...      ICT  \n",
      "113  <div class=\"fontsize fontface vmargins hmargin...      ICT  \n",
      "114  <div class=\"fontsize fontface vmargins hmargin...      ICT  \n"
     ]
    }
   ],
   "source": [
    "# Define IT-related keywords from the job description\n",
    "it_keywords = [\n",
    "    'monitoring', 'network', 'server', 'storage', 'troubleshoot', 'cloud', \n",
    "    'user support', 'security', 'automation', 'documentation', 'vendor management',\n",
    "    'infrastructure', 'virtualization', 'IT infrastructure', 'CompTIA', 'Microsoft'\n",
    "]\n",
    "\n",
    "# Filter resumes by these keywords\n",
    "relevant_it_resumes = it_resumes[it_resumes['Resume_str'].str.contains('|'.join(it_keywords), case=False)]\n",
    "\n",
    "# Display the filtered IT resumes\n",
    "print(relevant_it_resumes.head())"
   ]
  },
  {
   "cell_type": "code",
   "execution_count": 30,
   "metadata": {},
   "outputs": [
    {
     "name": "stdout",
     "output_type": "stream",
     "text": [
      "           ID                                         Resume_str  \\\n",
      "125  24913648           INFORMATION TECHNOLOGY SPECIALIST    ...   \n",
      "135  25959103           ADMINISTRATOR OF INFORMATION TECHNOLO...   \n",
      "146  22450718           INFORMATION TECHNOLOGY SPECIALIST    ...   \n",
      "175  10089434           INFORMATION TECHNOLOGY TECHNICIAN I  ...   \n",
      "171  57002858           INFORMATION TECHNOLOGY MANAGER       ...   \n",
      "\n",
      "                                           Resume_html Category  Similarity  \n",
      "125  <div class=\"fontsize fontface vmargins hmargin...      ICT    0.173599  \n",
      "135  <div class=\"fontsize fontface vmargins hmargin...      ICT    0.171244  \n",
      "146  <div class=\"fontsize fontface vmargins hmargin...      ICT    0.142471  \n",
      "175  <div class=\"fontsize fontface vmargins hmargin...      ICT    0.133627  \n",
      "171  <div class=\"fontsize fontface vmargins hmargin...      ICT    0.132806  \n"
     ]
    },
    {
     "name": "stderr",
     "output_type": "stream",
     "text": [
      "C:\\Users\\USER\\AppData\\Local\\Temp\\ipykernel_13668\\3909798967.py:23: SettingWithCopyWarning: \n",
      "A value is trying to be set on a copy of a slice from a DataFrame.\n",
      "Try using .loc[row_indexer,col_indexer] = value instead\n",
      "\n",
      "See the caveats in the documentation: https://pandas.pydata.org/pandas-docs/stable/user_guide/indexing.html#returning-a-view-versus-a-copy\n",
      "  relevant_it_resumes['Similarity'] = similarities\n"
     ]
    }
   ],
   "source": [
    "from sklearn.feature_extraction.text import TfidfVectorizer\n",
    "from sklearn.metrics.pairwise import cosine_similarity\n",
    "\n",
    "# Combine job description into a single string\n",
    "job_description = \"\"\"\n",
    "    IT Support Specialist Job at Dataposit. Responsibilities include monitoring IT systems, troubleshooting issues, \n",
    "    implementing upgrades, providing user support, maintaining security, automating tasks, and managing vendors. \n",
    "    Qualifications include IT infrastructure support experience, networking, servers, storage, cloud platforms, \n",
    "    relevant certifications, and excellent communication skills.\n",
    "\"\"\"\n",
    "\n",
    "# Create a TF-IDF vectorizer\n",
    "vectorizer = TfidfVectorizer(stop_words='english')\n",
    "\n",
    "# Fit the vectorizer on the resumes and transform both the resumes and job description\n",
    "tfidf_matrix = vectorizer.fit_transform(relevant_it_resumes['Resume_str'])\n",
    "job_vector = vectorizer.transform([job_description])\n",
    "\n",
    "# Calculate cosine similarity between job description and each resume\n",
    "similarities = cosine_similarity(job_vector, tfidf_matrix).flatten()\n",
    "\n",
    "# Add similarity scores to the DataFrame\n",
    "relevant_it_resumes['Similarity'] = similarities\n",
    "\n",
    "# Rank resumes by similarity score\n",
    "ranked_it_resumes = relevant_it_resumes.sort_values(by='Similarity', ascending=False)\n",
    "\n",
    "# Display top-ranked resumes\n",
    "print(ranked_it_resumes.head())"
   ]
  },
  {
   "cell_type": "code",
   "execution_count": 32,
   "metadata": {},
   "outputs": [
    {
     "name": "stdout",
     "output_type": "stream",
     "text": [
      "Filename: 10247517.pdf\n",
      "Content: INFORMATION TECHNOLOGY MANAGER\n",
      "Professional Summary\n",
      "Possesses an extensive background in Information Technology Management, along with a Masters of Science degree and multiple certifications.\n",
      "Excels in planning, implementing, and evaluating the systems, infrastructure, and staffing necessary to execute complex initiatives and meet\n",
      "deadlines in dynamic, fast-paced environments; adept at overseeing and participating in the installation, configuration, maintenance, and upgrade of\n",
      "networks, hardware\n"
     ]
    }
   ],
   "source": [
    "# Directory containing PDF resumes\n",
    "directory = 'data/data/ICT'\n",
    "\n",
    "# List to store resumes\n",
    "pdf_resumes = []\n",
    "\n",
    "# Iterate over all files in the directory\n",
    "for filename in os.listdir(directory):\n",
    "    if filename.endswith('.pdf'):\n",
    "        filepath = os.path.join(directory, filename)\n",
    "        \n",
    "        # Open the PDF file\n",
    "        with open(filepath, 'rb') as file:\n",
    "            reader = PdfReader(file)\n",
    "            text = \"\"\n",
    "            \n",
    "            # Extract text from each page\n",
    "            for page_num in range(len(reader.pages)):\n",
    "                page = reader.pages[page_num]\n",
    "                text += page.extract_text() or \"\"\n",
    "                \n",
    "            # Append the extracted text to the list\n",
    "            pdf_resumes.append((filename, text))\n",
    "\n",
    "# Display the filenames and the first 500 characters of the first resume as a sample\n",
    "for resume in pdf_resumes[:1]:\n",
    "    print(f\"Filename: {resume[0]}\")\n",
    "    print(f\"Content: {resume[1][:500]}\")"
   ]
  },
  {
   "cell_type": "code",
   "execution_count": 33,
   "metadata": {},
   "outputs": [
    {
     "name": "stdout",
     "output_type": "stream",
     "text": [
      "Filename: 20824105.pdf, Keyword Matches: 73\n",
      "Filename: 31243710.pdf, Keyword Matches: 66\n",
      "Filename: 24913648.pdf, Keyword Matches: 47\n",
      "Filename: 15651486.pdf, Keyword Matches: 44\n",
      "Filename: 18301617.pdf, Keyword Matches: 44\n"
     ]
    }
   ],
   "source": [
    "# Keywords to look for in the resumes\n",
    "keywords = [\n",
    "    'monitoring', 'network', 'server', 'storage', 'troubleshoot', 'cloud', \n",
    "    'user support', 'security', 'automation', 'documentation', 'vendor management',\n",
    "    'infrastructure', 'virtualization', 'IT infrastructure', 'CompTIA', 'Microsoft'\n",
    "]\n",
    "\n",
    "# Function to count keyword occurrences\n",
    "def count_keywords(text, keywords):\n",
    "    keyword_count = {key: len(re.findall(rf'\\b{key}\\b', text, re.IGNORECASE)) for key in keywords}\n",
    "    return sum(keyword_count.values())\n",
    "\n",
    "# Analyze each resume for keyword occurrence\n",
    "resume_analysis = [(filename, count_keywords(text, keywords)) for filename, text in pdf_resumes]\n",
    "\n",
    "# Sort resumes by keyword count in descending order\n",
    "sorted_resumes = sorted(resume_analysis, key=lambda x: x[1], reverse=True)\n",
    "\n",
    "# Display the top resumes\n",
    "for resume in sorted_resumes[:5]:\n",
    "    print(f\"Filename: {resume[0]}, Keyword Matches: {resume[1]}\")"
   ]
  },
  {
   "cell_type": "code",
   "execution_count": 34,
   "metadata": {},
   "outputs": [
    {
     "name": "stdout",
     "output_type": "stream",
     "text": [
      "Filename: 24913648.pdf, Similarity Score: 0.17799488076362488\n",
      "Filename: 25959103.pdf, Similarity Score: 0.17582032257658103\n",
      "Filename: 57002858.pdf, Similarity Score: 0.1347462920681473\n",
      "Filename: 16533554.pdf, Similarity Score: 0.13398807964885043\n",
      "Filename: 26480367.pdf, Similarity Score: 0.13241146831504744\n"
     ]
    }
   ],
   "source": [
    "# Job description text\n",
    "job_description = \"\"\"\n",
    "    IT Support Specialist Job at Dataposit. Responsibilities include monitoring IT systems, troubleshooting issues, \n",
    "    implementing upgrades, providing user support, maintaining security, automating tasks, and managing vendors. \n",
    "    Qualifications include IT infrastructure support experience, networking, servers, storage, cloud platforms, \n",
    "    relevant certifications, and excellent communication skills.\n",
    "\"\"\"\n",
    "\n",
    "# Combine resume texts into a list\n",
    "resume_texts = [text for _, text in pdf_resumes]\n",
    "\n",
    "# Vectorize the texts\n",
    "vectorizer = TfidfVectorizer(stop_words='english')\n",
    "tfidf_matrix = vectorizer.fit_transform(resume_texts)\n",
    "job_vector = vectorizer.transform([job_description])\n",
    "\n",
    "# Calculate cosine similarity\n",
    "similarities = cosine_similarity(job_vector, tfidf_matrix).flatten()\n",
    "\n",
    "# Combine filenames with similarity scores\n",
    "resume_similarity = [(filename, similarity) for filename, similarity in zip([filename for filename, _ in pdf_resumes], similarities)]\n",
    "\n",
    "# Sort by similarity\n",
    "ranked_resumes = sorted(resume_similarity, key=lambda x: x[1], reverse=True)\n",
    "\n",
    "# Display the top ranked resumes\n",
    "for resume in ranked_resumes[:5]:\n",
    "    print(f\"Filename: {resume[0]}, Similarity Score: {resume[1]}\")\n"
   ]
  }
 ],
 "metadata": {
  "kernelspec": {
   "display_name": "Python 3",
   "language": "python",
   "name": "python3"
  },
  "language_info": {
   "codemirror_mode": {
    "name": "ipython",
    "version": 3
   },
   "file_extension": ".py",
   "mimetype": "text/x-python",
   "name": "python",
   "nbconvert_exporter": "python",
   "pygments_lexer": "ipython3",
   "version": "3.11.3"
  }
 },
 "nbformat": 4,
 "nbformat_minor": 2
}
